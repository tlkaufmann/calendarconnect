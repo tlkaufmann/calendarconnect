{
 "cells": [
  {
   "cell_type": "code",
   "execution_count": 127,
   "metadata": {},
   "outputs": [],
   "source": [
    "from requests import get\n",
    "from requests.exceptions import RequestException\n",
    "from contextlib import closing\n",
    "from bs4 import BeautifulSoup\n",
    "import io\n",
    "import re\n",
    "from datetime import date, timedelta"
   ]
  },
  {
   "cell_type": "code",
   "execution_count": 136,
   "metadata": {},
   "outputs": [],
   "source": [
    "def simple_get(url):\n",
    "    \"\"\"\n",
    "    Attempts to get the content at `url` by making an HTTP GET request.\n",
    "    If the content-type of response is some kind of HTML/XML, return the\n",
    "    text content, otherwise return None.\n",
    "    \"\"\"\n",
    "    try:\n",
    "        with closing(get(url, stream=True)) as resp:\n",
    "            if is_good_response(resp):\n",
    "                return resp.content\n",
    "            else:\n",
    "                return None\n",
    "\n",
    "    except RequestException as e:\n",
    "        log_error('Error during requests to {0} : {1}'.format(url, str(e)))\n",
    "        return None\n",
    "\n",
    "\n",
    "def is_good_response(resp):\n",
    "    \"\"\"\n",
    "    Returns True if the response seems to be HTML, False otherwise.\n",
    "    \"\"\"\n",
    "    content_type = resp.headers['Content-Type'].lower()\n",
    "    return (resp.status_code == 200 \n",
    "            and content_type is not None \n",
    "            and content_type.find('html') > -1)\n",
    "\n",
    "\n",
    "def log_error(e):\n",
    "    \"\"\"\n",
    "    It is always a good idea to log errors. \n",
    "    This function just prints them, but you can\n",
    "    make it do anything.\n",
    "    \"\"\"\n",
    "    print(e)"
   ]
  },
  {
   "cell_type": "code",
   "execution_count": 137,
   "metadata": {},
   "outputs": [],
   "source": [
    "URL = 'https://zkm.de/en/exhibitions-events/current-exhibitions'\n",
    "URL2 = 'https://events.microsoft.com/?timeperiod=next30Days&isSharedInLocalViewMode=false&country=Germany&city=Karlsruhe,%20Baden-W%C3%BCrttemberg,%20Germany'"
   ]
  },
  {
   "cell_type": "code",
   "execution_count": 170,
   "metadata": {},
   "outputs": [],
   "source": [
    "re_pattern = '[0-9]{1,2}\\\\.[0-9]{1,2}\\\\.[20]*[1,2][0-9]'"
   ]
  },
  {
   "cell_type": "code",
   "execution_count": 139,
   "metadata": {},
   "outputs": [],
   "source": [
    "raw_html = simple_get(URL)\n",
    "soup = BeautifulSoup(raw_html, 'html.parser')\n",
    "raw_html2 = simple_get(URL2)\n",
    "soup2 = BeautifulSoup(raw_html, 'html.parser')"
   ]
  },
  {
   "cell_type": "code",
   "execution_count": 140,
   "metadata": {},
   "outputs": [
    {
     "data": {
      "text/plain": [
       "['teaser-grid__headline', 'bs-teaser-grid__headline']"
      ]
     },
     "execution_count": 140,
     "metadata": {},
     "output_type": "execute_result"
    }
   ],
   "source": [
    "example_title = 'Writing the History of the Future'\n",
    "example = soup.find(text=example_title)\n",
    "example_class = example.parent.parent['class']\n",
    "\n",
    "example_class"
   ]
  },
  {
   "cell_type": "code",
   "execution_count": 156,
   "metadata": {},
   "outputs": [
    {
     "name": "stdout",
     "output_type": "stream",
     "text": [
      "Open Codes\n",
      "Negative Space\n",
      "Writing the History of the Future\n",
      " Dieter Jung\n",
      "zkm_gameplay. the next level\n",
      "Open Codes. Living in Digital Worlds\n",
      "Games and Politics\n",
      "Games and Politics\n",
      "Seasons of Media Arts\n",
      "SCHLOSSLICHTSPIELE 2019\n",
      "Edge of Now\n",
      "SCHLOSSLICHTSPIELE 2019\n",
      "The Whole World a Bauhaus\n"
     ]
    }
   ],
   "source": [
    "matches = soup.find_all(attrs={'class': example_class})\n",
    "titles = []\n",
    "for match in matches:\n",
    "    m = re.sub('\\n', '', match.text)\n",
    "    titles.append(m)"
   ]
  },
  {
   "cell_type": "code",
   "execution_count": 157,
   "metadata": {},
   "outputs": [
    {
     "data": {
      "text/plain": [
       "<div class=\"card__text\">\n",
       "<div class=\"teaser-grid__headline bs-teaser-grid__headline\">\n",
       "<a href=\"/en/exhibition/2019/02/writing-the-history-of-the-future\">Writing the History of the Future</a>\n",
       "</div>\n",
       "<div class=\"teaser-grid__content editor-content bs-teaser-grid__content\">\n",
       "                Sat, 23.02.2019 – Sun, 28.03.2021<br/><a href=\"/en/location/atrium-89\" title=\"Location: Atrium 8+9\">Atrium 8+9</a><br/>Cost: Free admission              </div>\n",
       "</div>"
      ]
     },
     "execution_count": 157,
     "metadata": {},
     "output_type": "execute_result"
    }
   ],
   "source": [
    "example.parent.parent.parent"
   ]
  },
  {
   "cell_type": "code",
   "execution_count": 158,
   "metadata": {},
   "outputs": [
    {
     "data": {
      "text/plain": [
       "(2, <div class=\"card__text\">\n",
       " <div class=\"teaser-grid__headline bs-teaser-grid__headline\">\n",
       " <a href=\"/en/exhibition/2019/02/writing-the-history-of-the-future\">Writing the History of the Future</a>\n",
       " </div>\n",
       " <div class=\"teaser-grid__content editor-content bs-teaser-grid__content\">\n",
       "                 Sat, 23.02.2019 – Sun, 28.03.2021<br/><a href=\"/en/location/atrium-89\" title=\"Location: Atrium 8+9\">Atrium 8+9</a><br/>Cost: Free admission              </div>\n",
       " </div>)"
      ]
     },
     "execution_count": 158,
     "metadata": {},
     "output_type": "execute_result"
    }
   ],
   "source": [
    "example = example.parent\n",
    "\n",
    "for i in range(5):\n",
    "    match = re.findall(re_pattern, example.text)\n",
    "    if match:\n",
    "        break\n",
    "    else:\n",
    "        example = example.parent\n",
    "i, example"
   ]
  },
  {
   "cell_type": "code",
   "execution_count": 163,
   "metadata": {},
   "outputs": [],
   "source": [
    "def find_date(title):\n",
    "    div = soup.find(text=title)\n",
    "    \n",
    "    div = div.parent\n",
    "\n",
    "    for i in range(5):\n",
    "        match = re.findall(re_pattern, div.text)\n",
    "        if match:\n",
    "            break\n",
    "        else:\n",
    "            div = div.parent\n",
    "            \n",
    "    example_date = div.find(text = re.compile(re_pattern))\n",
    "    example_date = re.findall(re_pattern, example_date)\n",
    "    \n",
    "    if len(example_date) == 1:\n",
    "        example_date = example_date[0]\n",
    "\n",
    "    if len(example_date)==2:\n",
    "        date_1 = date(*[int(x) for x in reversed(example_date[0].split('.'))])\n",
    "        date_2 = date(*[int(x) for x in reversed(example_date[1].split('.'))]) \n",
    "\n",
    "        if(date_2-date_1 > timedelta(0)):\n",
    "            example_date = ' - '.join(example_date)\n",
    "            \n",
    "    return example_date"
   ]
  },
  {
   "cell_type": "code",
   "execution_count": 172,
   "metadata": {},
   "outputs": [
    {
     "name": "stdout",
     "output_type": "stream",
     "text": [
      "Open Codes: \t20.10.2017 - 02.06.2019\n",
      "Negative Space: \t06.04.2019 - 11.08.2019\n",
      "Writing the History of the Future: \t23.02.2019 - 28.03.2021\n",
      " Dieter Jung: \t09.02.2019 - 02.06.2019\n",
      "zkm_gameplay. the next level: \t29.09.2018 - 31.12.2021\n",
      "Open Codes. Living in Digital Worlds: \t13.03.2019 - 09.08.2019\n",
      "Games and Politics: \t05.04.2019 - 18.05.2019\n",
      "Games and Politics: \t05.04.2019 - 18.05.2019\n",
      "Seasons of Media Arts: \t08.08.2019 - 15.09.2019\n",
      "SCHLOSSLICHTSPIELE 2019: \t08.08.2019 - 15.09.2019\n",
      "Edge of Now: \t29.06.2019 - 27.10.2019\n",
      "SCHLOSSLICHTSPIELE 2019: \t08.08.2019 - 15.09.2019\n",
      "The Whole World a Bauhaus: \t26.10.2019 - 16.02.2020\n"
     ]
    }
   ],
   "source": [
    "for title in titles:\n",
    "    print(\"{}: \\t{}\".format(title, find_date(title)))"
   ]
  },
  {
   "cell_type": "code",
   "execution_count": 169,
   "metadata": {},
   "outputs": [
    {
     "name": "stdout",
     "output_type": "stream",
     "text": [
      "Open Codes: \t20.10.2017 - 02.06.2019\n",
      "Negative Space: \t06.04.2019 - 11.08.2019\n",
      "Writing the History of the Future: \t23.02.2019 - 28.03.2021\n",
      " Dieter Jung: \t09.02.2019 - 02.06.2019\n",
      "zkm_gameplay. the next level: \t29.09.2018 - 31.12.2021\n",
      "Open Codes. Living in Digital Worlds: \t13.03.2019 - 09.08.2019\n",
      "Games and Politics: \t05.04.2019 - 18.05.2019\n",
      "Games and Politics: \t05.04.2019 - 18.05.2019\n",
      "Seasons of Media Arts: \t08.08.2019 - 15.09.2019\n",
      "SCHLOSSLICHTSPIELE 2019: \t08.08.2019 - 15.09.2019\n",
      "Edge of Now: \t29.06.2019 - 27.10.2019\n",
      "SCHLOSSLICHTSPIELE 2019: \t08.08.2019 - 15.09.2019\n",
      "The Whole World a Bauhaus: \t26.10.2019 - 16.02.2020\n"
     ]
    }
   ],
   "source": [
    "for title in titles:\n",
    "    print(f\"{title}: \\t{find_date(title)}\")"
   ]
  },
  {
   "cell_type": "code",
   "execution_count": null,
   "metadata": {},
   "outputs": [],
   "source": []
  },
  {
   "cell_type": "code",
   "execution_count": 96,
   "metadata": {},
   "outputs": [],
   "source": [
    "example_date = example.find(text = re.compile(re_pattern))\n",
    "example_date = re.findall(re_pattern, example_date)"
   ]
  },
  {
   "cell_type": "code",
   "execution_count": 159,
   "metadata": {},
   "outputs": [],
   "source": [
    "if len(example_date) == 1:\n",
    "    example_date = example_date[0]\n",
    "\n",
    "if len(example_date)==2:\n",
    "    date_1 = date(*[int(x) for x in reversed(example_date[0].split('.'))])\n",
    "    date_2 = date(*[int(x) for x in reversed(example_date[1].split('.'))]) \n",
    "    \n",
    "    if(date_2-date_1 > timedelta(0)):\n",
    "        example_date = ' - '.join(example_date)"
   ]
  },
  {
   "cell_type": "code",
   "execution_count": 160,
   "metadata": {},
   "outputs": [
    {
     "data": {
      "text/plain": [
       "'23.02.2019 - 28.03.2021'"
      ]
     },
     "execution_count": 160,
     "metadata": {},
     "output_type": "execute_result"
    }
   ],
   "source": [
    "example_date"
   ]
  }
 ],
 "metadata": {
  "kernelspec": {
   "display_name": "Python 3",
   "language": "python",
   "name": "python3"
  },
  "language_info": {
   "codemirror_mode": {
    "name": "ipython",
    "version": 3
   },
   "file_extension": ".py",
   "mimetype": "text/x-python",
   "name": "python",
   "nbconvert_exporter": "python",
   "pygments_lexer": "ipython3",
   "version": "3.7.1"
  }
 },
 "nbformat": 4,
 "nbformat_minor": 2
}
