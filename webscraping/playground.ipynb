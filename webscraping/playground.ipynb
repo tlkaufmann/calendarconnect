{
 "cells": [
  {
   "cell_type": "code",
   "execution_count": 826,
   "metadata": {},
   "outputs": [],
   "source": [
    "from requests import get\n",
    "from requests.exceptions import RequestException\n",
    "from contextlib import closing\n",
    "from bs4 import BeautifulSoup\n",
    "import io\n",
    "import re\n",
    "from datetime import date, timedelta\n",
    "from dateutil.parser import parse\n",
    "import numpy as np"
   ]
  },
  {
   "cell_type": "code",
   "execution_count": 822,
   "metadata": {},
   "outputs": [],
   "source": [
    "from scraping_tools import *"
   ]
  },
  {
   "cell_type": "code",
   "execution_count": 831,
   "metadata": {},
   "outputs": [],
   "source": [
    "URL = 'https://zkm.de/en/exhibitions-events/current-exhibitions'\n",
    "example_title = 'Writing the History of the Future'"
   ]
  },
  {
   "cell_type": "code",
   "execution_count": 824,
   "metadata": {},
   "outputs": [],
   "source": [
    "URL = 'https://www.microsoft.com/de-de/techwiese/events/default.aspx?Veranstalter=Community'\n",
    "example_title = 'Bau dir einen Serverless EventStore'"
   ]
  },
  {
   "cell_type": "code",
   "execution_count": 825,
   "metadata": {},
   "outputs": [],
   "source": [
    "URL = 'https://mlh.io/seasons/eu-2019/events'\n",
    "example_title = 'HackSheffield'"
   ]
  },
  {
   "cell_type": "markdown",
   "metadata": {},
   "source": [
    "# Start"
   ]
  },
  {
   "cell_type": "code",
   "execution_count": 834,
   "metadata": {},
   "outputs": [],
   "source": [
    "raw_html = simple_get(URL)\n",
    "soup = BeautifulSoup(raw_html, 'html.parser')\n",
    "\n",
    "# Find the div-class of the example title\n",
    "for string in [example_title, example_title.upper(), example_title.lower(), \n",
    "            example_title.title(), example_title.capitalize()]:\n",
    "\n",
    "    try:\n",
    "        example = soup.find(text=string)\n",
    "    except:\n",
    "        example = None\n",
    "    if example:\n",
    "        break\n",
    "\n",
    "if example:\n",
    "    ex = example\n",
    "    for i in range(5):\n",
    "        try:\n",
    "            example_class = ex['class']\n",
    "            break\n",
    "        except:\n",
    "            ex = ex.parent\n",
    "    title_pos = np.where(example_title == np.array(ex.text.split('\\n')))[0][0]\n",
    "else:\n",
    "    example_class = None\n",
    "\n",
    "# Find the titles\n",
    "matches = soup.find_all(attrs={'class': example_class})\n",
    "titles = []\n",
    "for match in matches:\n",
    "    if match:\n",
    "        m = match.text.split('\\n')[title_pos]\n",
    "        titles.append(m)\n",
    "    else:\n",
    "        titles.append('')"
   ]
  },
  {
   "cell_type": "code",
   "execution_count": 861,
   "metadata": {},
   "outputs": [
    {
     "data": {
      "text/plain": [
       "'<a href=\"/en/exhibition/2017/10/open-codes\">Open Codes</a>'"
      ]
     },
     "execution_count": 861,
     "metadata": {},
     "output_type": "execute_result"
    }
   ],
   "source": [
    "title = titles[0]\n",
    "div = soup.find(text=title)\n",
    "div = div.parent\n",
    "re_link = 'href=\\\".*\\\"'\n",
    "str(div)"
   ]
  },
  {
   "cell_type": "code",
   "execution_count": 862,
   "metadata": {},
   "outputs": [
    {
     "data": {
      "text/plain": [
       "'href=\"/en/exhibition/2017/10/open-codes\"'"
      ]
     },
     "execution_count": 862,
     "metadata": {},
     "output_type": "execute_result"
    }
   ],
   "source": [
    "re.search(re_link, str(div)).group()"
   ]
  },
  {
   "cell_type": "code",
   "execution_count": null,
   "metadata": {},
   "outputs": [],
   "source": []
  }
 ],
 "metadata": {
  "kernelspec": {
   "display_name": "Python 3",
   "language": "python",
   "name": "python3"
  },
  "language_info": {
   "codemirror_mode": {
    "name": "ipython",
    "version": 3
   },
   "file_extension": ".py",
   "mimetype": "text/x-python",
   "name": "python",
   "nbconvert_exporter": "python",
   "pygments_lexer": "ipython3",
   "version": "3.7.1"
  }
 },
 "nbformat": 4,
 "nbformat_minor": 2
}
