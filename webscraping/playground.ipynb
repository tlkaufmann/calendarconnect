{
 "cells": [
  {
   "cell_type": "code",
   "execution_count": 779,
   "metadata": {},
   "outputs": [],
   "source": [
    "from requests import get\n",
    "from requests.exceptions import RequestException\n",
    "from contextlib import closing\n",
    "from bs4 import BeautifulSoup\n",
    "import io\n",
    "import re\n",
    "from datetime import date, timedelta\n",
    "from dateutil.parser import parse\n",
    "import numpy as np"
   ]
  },
  {
   "cell_type": "code",
   "execution_count": 136,
   "metadata": {},
   "outputs": [],
   "source": [
    "def simple_get(url):\n",
    "    \"\"\"\n",
    "    Attempts to get the content at `url` by making an HTTP GET request.\n",
    "    If the content-type of response is some kind of HTML/XML, return the\n",
    "    text content, otherwise return None.\n",
    "    \"\"\"\n",
    "    try:\n",
    "        with closing(get(url, stream=True)) as resp:\n",
    "            if is_good_response(resp):\n",
    "                return resp.content\n",
    "            else:\n",
    "                return None\n",
    "\n",
    "    except RequestException as e:\n",
    "        log_error('Error during requests to {0} : {1}'.format(url, str(e)))\n",
    "        return None\n",
    "\n",
    "\n",
    "def is_good_response(resp):\n",
    "    \"\"\"\n",
    "    Returns True if the response seems to be HTML, False otherwise.\n",
    "    \"\"\"\n",
    "    content_type = resp.headers['Content-Type'].lower()\n",
    "    return (resp.status_code == 200 \n",
    "            and content_type is not None \n",
    "            and content_type.find('html') > -1)\n",
    "\n",
    "\n",
    "def log_error(e):\n",
    "    \"\"\"\n",
    "    It is always a good idea to log errors. \n",
    "    This function just prints them, but you can\n",
    "    make it do anything.\n",
    "    \"\"\"\n",
    "    print(e)"
   ]
  },
  {
   "cell_type": "code",
   "execution_count": 784,
   "metadata": {},
   "outputs": [],
   "source": [
    "URL = 'https://zkm.de/en/exhibitions-events/current-exhibitions'\n",
    "example_title = 'Writing the History of the Future'"
   ]
  },
  {
   "cell_type": "code",
   "execution_count": 766,
   "metadata": {},
   "outputs": [],
   "source": [
    "URL = 'https://www.microsoft.com/de-de/techwiese/events/default.aspx?Veranstalter=Community'\n",
    "example_title = 'Bau dir einen Serverless EventStore'"
   ]
  },
  {
   "cell_type": "code",
   "execution_count": 801,
   "metadata": {},
   "outputs": [],
   "source": [
    "URL = 'https://mlh.io/seasons/eu-2019/events'\n",
    "example_title = 'HackSheffield'"
   ]
  },
  {
   "cell_type": "code",
   "execution_count": 802,
   "metadata": {},
   "outputs": [],
   "source": [
    "raw_html = simple_get(URL)\n",
    "soup = BeautifulSoup(raw_html, 'html.parser')"
   ]
  },
  {
   "cell_type": "code",
   "execution_count": 803,
   "metadata": {},
   "outputs": [],
   "source": [
    "for string in [example_title, example_title.upper(), example_title.lower(), \n",
    "               example_title.title(), example_title.capitalize()]:\n",
    "    \n",
    "    try:\n",
    "        example = soup.find(text=string)\n",
    "    except:\n",
    "        example = None\n",
    "    if example:\n",
    "        break\n",
    "        \n",
    "if example:\n",
    "\n",
    "    ex = example\n",
    "    for i in range(5):\n",
    "        try:\n",
    "            example_class = ex['class']\n",
    "            break\n",
    "        except:\n",
    "            ex = ex.parent\n",
    "    title_pos = np.where(example_title == np.array(ex.text.split('\\n')))[0][0]\n",
    "else:\n",
    "    example_class = None"
   ]
  },
  {
   "cell_type": "code",
   "execution_count": 804,
   "metadata": {},
   "outputs": [
    {
     "data": {
      "text/plain": [
       "(['inner'], 3)"
      ]
     },
     "execution_count": 804,
     "metadata": {},
     "output_type": "execute_result"
    }
   ],
   "source": [
    "example_class, title_pos"
   ]
  },
  {
   "cell_type": "code",
   "execution_count": 805,
   "metadata": {},
   "outputs": [],
   "source": [
    "matches = soup.find_all(attrs={'class': example_class})\n",
    "titles = []\n",
    "for match in matches:\n",
    "    m = match.text.split('\\n')[title_pos]\n",
    "    titles.append(m)"
   ]
  },
  {
   "cell_type": "code",
   "execution_count": 807,
   "metadata": {},
   "outputs": [
    {
     "data": {
      "text/plain": [
       "['JUNCTIONxBudapest',\n",
       " 'Hack.Moscow',\n",
       " 'HackSheffield',\n",
       " 'HackTheMidlands',\n",
       " 'jacobsHack! 2018',\n",
       " 'AstonHack',\n",
       " 'HackSussex',\n",
       " 'ExImpact',\n",
       " 'DurHack',\n",
       " 'Porticode 3.0',\n",
       " 'Junction 2018',\n",
       " 'HackNotts',\n",
       " 'OxfordHack',\n",
       " 'Local Hack Day',\n",
       " 'Hack Cambridge 4D    ',\n",
       " 'ManMetHacks',\n",
       " 'Reboot Hack  ',\n",
       " 'Royal Hackaway v2',\n",
       " 'HackSurrey Mk2  ',\n",
       " 'Hack The South',\n",
       " 'R.U. Hacking?',\n",
       " 'Hack The Burgh',\n",
       " '{FMI Codes} Code for Automation',\n",
       " 'HackBordeaux',\n",
       " '//Slash Hackathon',\n",
       " 'Hack Kosice',\n",
       " 'HackMed 2019  ',\n",
       " 'AUHack',\n",
       " 'Hack Winterthur',\n",
       " 'CopenHacks',\n",
       " 'HackDelft',\n",
       " 'UniHack',\n",
       " 'DragonHack',\n",
       " 'Hackaburg']"
      ]
     },
     "execution_count": 807,
     "metadata": {},
     "output_type": "execute_result"
    }
   ],
   "source": [
    "title = titles[0]\n",
    "titles"
   ]
  },
  {
   "cell_type": "markdown",
   "metadata": {},
   "source": [
    "# Tests"
   ]
  },
  {
   "cell_type": "code",
   "execution_count": 808,
   "metadata": {},
   "outputs": [],
   "source": [
    "def regex_date(string):\n",
    "    \n",
    "    months = ['January', 'February', 'March', 'April', 'May', 'June', 'July', 'August', 'September', 'October', 'November', 'December']\n",
    "    months_short = ['Jan', 'Feb', 'Mar', 'Apr', 'May', 'Jun', 'Jul', 'Aug', 'Sept', 'Oct', 'Nov', 'Dec']\n",
    "    months_de = ['Januar', 'Februar', 'März', 'April', 'Mai', 'Juni', 'Juli', 'August', 'September', 'Oktober', 'November', 'Dezember']\n",
    "    months_de_short = ['Jan', 'Feb', 'Mär', 'Apr', 'Mai', 'Jun', 'Jul', 'Aug', 'Sep', 'Okt', 'Nov', 'Dez']\n",
    "    \n",
    "    months_patterns = ['[0-9]{1,2}[\\.]?[\\s]?' + '(' + '|'.join(months) + ')' + '.' + '(20[12][0-9])?', \n",
    "                       '[0-9]{1,2}[\\.]?[\\s]?' + '(' + '|'.join(months_de) + ')' + '.' + '(20[12][0-9])?',\n",
    "                       '[0-9]{1,2}[\\.]?[\\s]?' + '(' + '|'.join(months_short) + ')' + '.' + '(20[12][0-9])?',\n",
    "                       '(' + '|'.join(months) + ')' + '[\\s]?[0-9]{1,2}(th|st|nd|rd)?[\\s]?(20[12][0-9])?',\n",
    "                       '(' + '|'.join(months_short) + ')' + '[\\s]?[0-9]{1,2}(th|st|nd|rd)?[\\s]?(20[12][0-9])?'\n",
    "                      ]\n",
    "\n",
    "    for pattern in months_patterns:\n",
    "        if re.search(pattern, string):\n",
    "            return re.search(pattern, string).group()\n",
    "        \n",
    "    re_patterns = ['[0-9]{1,2}\\\\.[0-9]{1,2}\\\\.20[1,2][0-9]',\n",
    "                      '[0-9]{1,2}\\\\.[0-9]{1,2}\\\\.[1,2][0-9]',\n",
    "                  '[0-9]{1,2}\\\\.[0-9]{1,2}.?']\n",
    "\n",
    "    for pattern in re_patterns:\n",
    "        if re.search(pattern, string):\n",
    "            return re.search(pattern, string).group()\n",
    "    return None"
   ]
  },
  {
   "cell_type": "code",
   "execution_count": 809,
   "metadata": {},
   "outputs": [],
   "source": [
    "def find_date(title):\n",
    "    div = soup.find(text=title)\n",
    "    \n",
    "    div = div.parent\n",
    "\n",
    "    for i in range(10):\n",
    "        match = regex_date(div.text)\n",
    "        if match:\n",
    "            break\n",
    "        else:\n",
    "            div = div.parent\n",
    "            \n",
    "    example_date = regex_date(div.text)\n",
    "    if not example_date:\n",
    "        example_date = None\n",
    "        \n",
    "    elif len(example_date) == 1:\n",
    "        example_date = example_date[0]\n",
    "\n",
    "    elif len(example_date)==2:\n",
    "        date_1 = date(*[int(x) for x in reversed(example_date[0].split('.'))])\n",
    "        date_2 = date(*[int(x) for x in reversed(example_date[1].split('.'))]) \n",
    "\n",
    "        if(date_2-date_1 > timedelta(0)):\n",
    "            example_date = ' - '.join(example_date)\n",
    "            \n",
    "    return example_date"
   ]
  },
  {
   "cell_type": "code",
   "execution_count": 810,
   "metadata": {},
   "outputs": [
    {
     "name": "stdout",
     "output_type": "stream",
     "text": [
      "JUNCTIONxBudapest: \tOct 19th \n",
      "\n",
      "\n",
      "Hack.Moscow: \tOct 26th \n",
      "\n",
      "\n",
      "HackSheffield: \tOct 27th \n",
      "\n",
      "\n",
      "HackTheMidlands: \tNov 3rd \n",
      "\n",
      "\n",
      "jacobsHack! 2018: \t18\n",
      "Nov \n",
      "\n",
      "\n",
      "AstonHack: \tNov 10th \n",
      "\n",
      "\n",
      "HackSussex: \tNov 10th \n",
      "\n",
      "\n",
      "ExImpact: \tNov 16th \n",
      "\n",
      "\n",
      "DurHack: \tNov 17th \n",
      "\n",
      "\n",
      "Porticode 3.0: \t3.0\n",
      "\n",
      "\n",
      "Junction 2018: \t18\n",
      "Nov \n",
      "\n",
      "\n",
      "HackNotts: \tNov 24th \n",
      "\n",
      "\n",
      "OxfordHack: \tNov 24th \n",
      "\n",
      "\n",
      "Local Hack Day: \tDec 1st\n",
      "\n",
      "\n",
      "\n",
      "Hack Cambridge 4D    : \tJan 19th \n",
      "\n",
      "\n",
      "ManMetHacks: \tJan 26th \n",
      "\n",
      "\n",
      "Reboot Hack  : \tFeb 2nd \n",
      "\n",
      "\n",
      "Royal Hackaway v2: \t2\n",
      "Feb \n",
      "\n",
      "\n",
      "HackSurrey Mk2  : \tFeb 9th \n",
      "\n",
      "\n",
      "Hack The South: \tFeb 9th \n",
      "\n",
      "\n",
      "R.U. Hacking?: \tFeb 16th \n",
      "\n",
      "\n",
      "Hack The Burgh: \tMar 16th \n",
      "\n",
      "\n",
      "{FMI Codes} Code for Automation: \tMar 22nd \n",
      "\n",
      "\n",
      "HackBordeaux: \tMar 23rd \n",
      "\n",
      "\n",
      "//Slash Hackathon: \tMar 29th \n",
      "\n",
      "\n",
      "Hack Kosice: \tMar 30th \n",
      "\n",
      "\n",
      "HackMed 2019  : \tMar 30th \n",
      "\n",
      "\n",
      "AUHack: \tApr 5th \n",
      "\n",
      "\n",
      "Hack Winterthur: \tApr 5th \n",
      "\n",
      "\n",
      "CopenHacks: \tApr 6th \n",
      "\n",
      "\n",
      "HackDelft: \tMay 11th \n",
      "\n",
      "\n",
      "UniHack: \tMay 17th \n",
      "\n",
      "\n",
      "DragonHack: \tMay 18th \n",
      "\n",
      "\n",
      "Hackaburg: \tMay 24th \n",
      "\n",
      "\n"
     ]
    }
   ],
   "source": [
    "for title in titles:\n",
    "    print(\"{}: \\t{}\".format(title, find_date(title)))\n",
    "    print('\\n')"
   ]
  },
  {
   "cell_type": "code",
   "execution_count": 676,
   "metadata": {},
   "outputs": [
    {
     "name": "stdout",
     "output_type": "stream",
     "text": [
      "10.19.2019\n"
     ]
    },
    {
     "ename": "AttributeError",
     "evalue": "'NoneType' object has no attribute 'parent'",
     "output_type": "error",
     "traceback": [
      "\u001b[0;31m---------------------------------------------------------------------------\u001b[0m",
      "\u001b[0;31mAttributeError\u001b[0m                            Traceback (most recent call last)",
      "\u001b[0;32m<ipython-input-676-7b561b096162>\u001b[0m in \u001b[0;36m<module>\u001b[0;34m\u001b[0m\n\u001b[1;32m      5\u001b[0m \u001b[0;32mfor\u001b[0m \u001b[0mtest_case\u001b[0m \u001b[0;32min\u001b[0m \u001b[0mtest_cases\u001b[0m\u001b[0;34m:\u001b[0m\u001b[0;34m\u001b[0m\u001b[0;34m\u001b[0m\u001b[0m\n\u001b[1;32m      6\u001b[0m     \u001b[0mprint\u001b[0m\u001b[0;34m(\u001b[0m\u001b[0mtest_case\u001b[0m\u001b[0;34m)\u001b[0m\u001b[0;34m\u001b[0m\u001b[0;34m\u001b[0m\u001b[0m\n\u001b[0;32m----> 7\u001b[0;31m     \u001b[0mprint\u001b[0m\u001b[0;34m(\u001b[0m\u001b[0;34m\"{} -> {}\"\u001b[0m\u001b[0;34m.\u001b[0m\u001b[0mformat\u001b[0m\u001b[0;34m(\u001b[0m\u001b[0mtest_case\u001b[0m\u001b[0;34m,\u001b[0m \u001b[0mfind_date\u001b[0m\u001b[0;34m(\u001b[0m\u001b[0mtest_case\u001b[0m\u001b[0;34m)\u001b[0m\u001b[0;34m)\u001b[0m\u001b[0;34m)\u001b[0m\u001b[0;34m\u001b[0m\u001b[0;34m\u001b[0m\u001b[0m\n\u001b[0m",
      "\u001b[0;32m<ipython-input-665-7dd090c031c7>\u001b[0m in \u001b[0;36mfind_date\u001b[0;34m(title)\u001b[0m\n\u001b[1;32m      2\u001b[0m     \u001b[0mdiv\u001b[0m \u001b[0;34m=\u001b[0m \u001b[0msoup\u001b[0m\u001b[0;34m.\u001b[0m\u001b[0mfind\u001b[0m\u001b[0;34m(\u001b[0m\u001b[0mtext\u001b[0m\u001b[0;34m=\u001b[0m\u001b[0mtitle\u001b[0m\u001b[0;34m)\u001b[0m\u001b[0;34m\u001b[0m\u001b[0;34m\u001b[0m\u001b[0m\n\u001b[1;32m      3\u001b[0m \u001b[0;34m\u001b[0m\u001b[0m\n\u001b[0;32m----> 4\u001b[0;31m     \u001b[0mdiv\u001b[0m \u001b[0;34m=\u001b[0m \u001b[0mdiv\u001b[0m\u001b[0;34m.\u001b[0m\u001b[0mparent\u001b[0m\u001b[0;34m\u001b[0m\u001b[0;34m\u001b[0m\u001b[0m\n\u001b[0m\u001b[1;32m      5\u001b[0m \u001b[0;34m\u001b[0m\u001b[0m\n\u001b[1;32m      6\u001b[0m     \u001b[0;32mfor\u001b[0m \u001b[0mi\u001b[0m \u001b[0;32min\u001b[0m \u001b[0mrange\u001b[0m\u001b[0;34m(\u001b[0m\u001b[0;36m5\u001b[0m\u001b[0;34m)\u001b[0m\u001b[0;34m:\u001b[0m\u001b[0;34m\u001b[0m\u001b[0;34m\u001b[0m\u001b[0m\n",
      "\u001b[0;31mAttributeError\u001b[0m: 'NoneType' object has no attribute 'parent'"
     ]
    }
   ],
   "source": [
    "test_cases = ['10.19.2019', '10. Mai 2019', '10. May 2019', '10. Mai, 2020', \n",
    "              '10 Jan', '10. Jan', '10. Januar', '12.10', '12.10.', \n",
    "             'May 14th', 'January 2nd 2019', 'Jan 3rd 2020']\n",
    "\n",
    "for test_case in test_cases:\n",
    "    print(\"{} -> {}\".format(test_case, find_date(test_case)))"
   ]
  },
  {
   "cell_type": "code",
   "execution_count": 675,
   "metadata": {},
   "outputs": [
    {
     "name": "stdout",
     "output_type": "stream",
     "text": [
      "10.19.2019 -> 2019-10-19 00:00:00\n",
      "10. Mai 2019 -> None\n",
      "10. May 2019 -> 2019-05-10 00:00:00\n",
      "10. Mai, 2020 -> None\n",
      "10 Jan -> 2019-01-10 00:00:00\n",
      "10. Jan -> 2019-01-10 00:00:00\n",
      "10. Januar -> None\n",
      "12.10 -> 2019-05-12 00:00:00\n",
      "12.10. -> None\n",
      "May 14th -> 2019-05-14 00:00:00\n",
      "January 2nd 2019 -> 2019-01-02 00:00:00\n",
      "Jan 3rd 2020 -> 2020-01-03 00:00:00\n"
     ]
    }
   ],
   "source": [
    "for test_case in test_cases:\n",
    "    \n",
    "#     for en, de in zip(months, months_de):\n",
    "#         if de in test_case:\n",
    "#             test_case = re.sub(de, en, test_case)\n",
    "            \n",
    "    \n",
    "    try:\n",
    "        print(\"{} -> {}\".format(test_case, parse(test_case)))\n",
    "    except:\n",
    "        print(\"{} -> None\".format(test_case))"
   ]
  },
  {
   "cell_type": "code",
   "execution_count": 605,
   "metadata": {},
   "outputs": [
    {
     "data": {
      "text/plain": [
       "'26.10.2019'"
      ]
     },
     "execution_count": 605,
     "metadata": {},
     "output_type": "execute_result"
    }
   ],
   "source": [
    "div = soup.find(text=title)\n",
    "div = div.parent\n",
    "\n",
    "for i in range(5):\n",
    "    match = find_date(div.text)\n",
    "    if match:\n",
    "        break\n",
    "    else:\n",
    "        div = div.parent\n"
   ]
  },
  {
   "cell_type": "code",
   "execution_count": 546,
   "metadata": {},
   "outputs": [],
   "source": []
  },
  {
   "cell_type": "code",
   "execution_count": null,
   "metadata": {},
   "outputs": [],
   "source": []
  }
 ],
 "metadata": {
  "kernelspec": {
   "display_name": "Python 3",
   "language": "python",
   "name": "python3"
  },
  "language_info": {
   "codemirror_mode": {
    "name": "ipython",
    "version": 3
   },
   "file_extension": ".py",
   "mimetype": "text/x-python",
   "name": "python",
   "nbconvert_exporter": "python",
   "pygments_lexer": "ipython3",
   "version": "3.7.1"
  }
 },
 "nbformat": 4,
 "nbformat_minor": 2
}
